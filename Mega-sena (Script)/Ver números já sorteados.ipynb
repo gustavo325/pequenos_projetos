{
 "cells": [
  {
   "cell_type": "code",
   "execution_count": null,
   "metadata": {},
   "outputs": [],
   "source": [
    "import pandas as pd"
   ]
  },
  {
   "cell_type": "code",
   "execution_count": null,
   "metadata": {},
   "outputs": [],
   "source": [
    "df = pd.read_excel(\"resultados mega sena.xlsx\")"
   ]
  },
  {
   "cell_type": "code",
   "execution_count": null,
   "metadata": {},
   "outputs": [],
   "source": [
    "def verifica_numeros(sequencia):\n",
    "    check = True\n",
    "    for i, row in df.iterrows():\n",
    "        lista_row = list(row[2:])\n",
    "        if sequencia == lista_row:\n",
    "            print(f'Essa sequência já foi sorteada no dia {str(row[1:2])[8:18]}')\n",
    "            check = False\n",
    "        elif sequencia[:5] == lista_row[:5]:\n",
    "            print(f'Os 5 primeiros números dessa sequência já foram sorteados no dia {str(row[1:2])[8:18]}')\n",
    "            check = False\n",
    "        elif sequencia[:4] == lista_row[:4]:\n",
    "            print(f'Os 4 primeiros números dessa sequência já foram sorteados no dia {str(row[1:2])[8:18]}')\n",
    "            check = False\n",
    "        elif sequencia[:3] == lista_row[:3]:\n",
    "            print(f'Os 3 primeiros números dessa sequência já foram sorteados no dia {str(row[1:2])[8:18]}')\n",
    "            check = False\n",
    "        elif sequencia[1:] == lista_row[1:]:\n",
    "            print(f'Os 5 últimos números dessa sequência já foram sorteados no dia {str(row[1:2])[8:18]}')\n",
    "            check = False\n",
    "        elif sequencia[2:] == lista_row[2:]:\n",
    "            print(f'Os 4 últimos números dessa sequência já foram sorteados no dia {str(row[1:2])[8:18]}')\n",
    "            check = False\n",
    "        elif sequencia[3:] == lista_row[3:]:\n",
    "            print(f'Os 3 últimos números dessa sequência já foram sorteados no dia {str(row[1:2])[8:18]}')\n",
    "            check = False\n",
    "    if check:\n",
    "        return f'Essa sequencia não foi sorteada ainda... Joga logo!!!!, números: {sequencia}'"
   ]
  },
  {
   "cell_type": "code",
   "execution_count": null,
   "metadata": {},
   "outputs": [],
   "source": [
    "numeros = [3,14,30,46,47,54]"
   ]
  },
  {
   "cell_type": "code",
   "execution_count": null,
   "metadata": {},
   "outputs": [],
   "source": [
    "verifica_numeros(numeros)"
   ]
  }
 ],
 "metadata": {
  "kernelspec": {
   "display_name": "base",
   "language": "python",
   "name": "python3"
  },
  "language_info": {
   "codemirror_mode": {
    "name": "ipython",
    "version": 3
   },
   "file_extension": ".py",
   "mimetype": "text/x-python",
   "name": "python",
   "nbconvert_exporter": "python",
   "pygments_lexer": "ipython3",
   "version": "3.11.5"
  }
 },
 "nbformat": 4,
 "nbformat_minor": 2
}
